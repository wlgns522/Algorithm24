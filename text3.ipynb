{
 "cells": [
  {
   "cell_type": "code",
   "execution_count": 36,
   "id": "a94a403d-57f2-4d0b-b9a5-f4d910fd5e33",
   "metadata": {},
   "outputs": [
    {
     "name": "stdout",
     "output_type": "stream",
     "text": [
      "a: {1, 2, 3}\n",
      "b: {2, 3, 4, 5}\n",
      "c: {1, 2, 3, 4, 5}\n",
      "d: {2, 3}\n",
      "e: {1}\n",
      "f: False\n"
     ]
    }
   ],
   "source": [
    "a = {1,2,3}\n",
    "b = {2,3,4,5,}\n",
    "c = a|b\n",
    "d = a.intersection(b)\n",
    "e = a - b\n",
    "f = a<=b \n",
    "print(\"a:\", a)\n",
    "print(\"b:\", b)\n",
    "print(\"c:\", c)\n",
    "print(\"d:\", d)\n",
    "print(\"e:\", e)\n",
    "print(\"f:\", f)"
   ]
  },
  {
   "cell_type": "code",
   "execution_count": 37,
   "id": "4c6f07ca-5c2c-40d3-b777-19e33e93e1f9",
   "metadata": {},
   "outputs": [
    {
     "name": "stdout",
     "output_type": "stream",
     "text": [
      "a: {1, 2, 3}\n",
      "b: {1, 2, 3, 4, 5}\n",
      "c: {1, 2, 3, 4, 5}\n",
      "d: {1, 2, 3}\n",
      "e: set()\n",
      "f: True\n"
     ]
    }
   ],
   "source": [
    "a = {1,2,3}\n",
    "b = {1,2,3,4,5,}\n",
    "c = a|b\n",
    "d = a.intersection(b)\n",
    "e = a - b\n",
    "f = a<=b \n",
    "print(\"a:\", a)\n",
    "print(\"b:\", b)\n",
    "print(\"c:\", c)\n",
    "print(\"d:\", d)\n",
    "print(\"e:\", e)\n",
    "print(\"f:\", f)"
   ]
  },
  {
   "cell_type": "code",
   "execution_count": null,
   "id": "59c4db69-eae0-4a88-9e0a-9b53e82dcd31",
   "metadata": {},
   "outputs": [],
   "source": []
  }
 ],
 "metadata": {
  "kernelspec": {
   "display_name": "Python 3 (ipykernel)",
   "language": "python",
   "name": "python3"
  },
  "language_info": {
   "codemirror_mode": {
    "name": "ipython",
    "version": 3
   },
   "file_extension": ".py",
   "mimetype": "text/x-python",
   "name": "python",
   "nbconvert_exporter": "python",
   "pygments_lexer": "ipython3",
   "version": "3.11.7"
  }
 },
 "nbformat": 4,
 "nbformat_minor": 5
}
