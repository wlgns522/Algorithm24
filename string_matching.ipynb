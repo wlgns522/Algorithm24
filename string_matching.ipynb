{
 "cells": [
  {
   "cell_type": "markdown",
   "metadata": {},
   "source": [
    "# 문자열 매칭 문제\n"
   ]
  },
  {
   "cell_type": "markdown",
   "metadata": {},
   "source": [
    "### 1. 문제정의\n"
   ]
  },
  {
   "cell_type": "markdown",
   "metadata": {},
   "source": [
    "    - 문제 이름 : 가장 먼저 나타나는 문자열 찾기\n",
    "    - 문제 설명 : 입력 문자열 T에서 가장 먼저 나타나는 패턴 문자열 P를 찾아라\n",
    "    - 문제 예시 : 입력 문자열 BRUTEFORCE 에서 패턴 문자열 FOR는 5번이다\n"
   ]
  },
  {
   "cell_type": "markdown",
   "metadata": {},
   "source": [
    "### 2. 알고리즘 설명\n"
   ]
  },
  {
   "cell_type": "markdown",
   "metadata": {},
   "source": [
    "패턴 문자열 첫 문자를 입력 문자열 첫 문자부터 비교를 한다. 서로 다를 경우 다음 문자로 이동한다. 이 행동을 서로 일치할 때 까지 반복한다. 일치하는 문자를 찾을 경우 다음 패턴 문자를 비교한다. 모든 패턴 문자열이 일치할 경우 첫 패턴 문자열의 위치를 반환하고 일치하는 문자열이 없을 경우 -1을 반환한다.\n"
   ]
  },
  {
   "cell_type": "markdown",
   "metadata": {},
   "source": [
    "\n",
    "### 3. 손으로 푼 예제\n"
   ]
  },
  {
   "cell_type": "markdown",
   "metadata": {},
   "source": [
    "-![image.png](attachment:image.png)\n"
   ]
  },
  {
   "cell_type": "markdown",
   "metadata": {},
   "source": [
    "### 4. 코드 개요\n"
   ]
  },
  {
   "cell_type": "markdown",
   "metadata": {},
   "source": [
    "    - 입력 변수 : 입력 문자열\n",
    "    - 출력 : 패턴 문자열\n"
   ]
  },
  {
   "cell_type": "markdown",
   "metadata": {},
   "source": [
    "### 5. 수행 결과\n"
   ]
  },
  {
   "cell_type": "markdown",
   "metadata": {},
   "source": [
    "- ![image-2.png](attachment:image-2.png)\n"
   ]
  },
  {
   "cell_type": "markdown",
   "metadata": {},
   "source": [
    "### 6. 복잡도 분석\n"
   ]
  },
  {
   "cell_type": "markdown",
   "metadata": {},
   "source": [
    "- 최선 : T의 맨 앞이 P와 일치할 경우 P의 길이 만큼만 비교하면 되기 때문에 최선의 경우 T(m,n)=m이고, 따라서 O(m)이다.\n",
    "- 최악 : T 끝까지 했는데도 P가 일치하지 않을 경우가 최악의 경우이기 때문에\n",
    "T(n,m)=m(n-m+1)이고, 따라서 O(nm)이다. "
   ]
  },
  {
   "cell_type": "code",
   "execution_count": null,
   "metadata": {},
   "outputs": [],
   "source": [
    "def string_matching(T, P):\n",
    "    n = len(T)\n",
    "    m = len(P)\n",
    "    for i in range(n-m+1):\n",
    "        j = 0\n",
    "        while j < m and P[j]==T[i+j]:\n",
    "            j=j+1\n",
    "        if j == m :\n",
    "            return i\n",
    "    return -1"
   ]
  },
  {
   "cell_type": "code",
   "execution_count": 6,
   "metadata": {},
   "outputs": [
    {
     "name": "stdout",
     "output_type": "stream",
     "text": [
      "FOR in BRUTEFORCE --> 5\n",
      "AS in BRUTEFORCE --> -1\n"
     ]
    }
   ],
   "source": [
    "text = 'BRUTEFORCE'\n",
    "pattern = 'FOR'\n",
    "print(pattern, 'in', text, '-->', string_matching(text, pattern))\n",
    "pattern = 'AS'\n",
    "print(pattern, 'in', text, '-->', string_matching(text, pattern))\n"
   ]
  },
  {
   "cell_type": "code",
   "execution_count": null,
   "metadata": {},
   "outputs": [],
   "source": [
    "def string_matching(T, P):\n",
    "    n = len(T)\n",
    "    m = len(P)\n",
    "    for i in range(n-m+1):\n",
    "        j = 0\n",
    "        while j < m and P[j]==T[i+j]:\n",
    "            j=j+1\n",
    "        if j == m :\n",
    "            return i\n",
    "    return -1"
   ]
  },
  {
   "cell_type": "code",
   "execution_count": 4,
   "metadata": {},
   "outputs": [
    {
     "name": "stdout",
     "output_type": "stream",
     "text": [
      "WO in HELLO WORLD --> 6\n",
      "WR in HELLO WORLD --> -1\n"
     ]
    }
   ],
   "source": [
    "def string_matching(T, P):\n",
    "    n = len(T)\n",
    "    m = len(P)\n",
    "    for i in range(n-m+1):\n",
    "        j = 0\n",
    "        while j < m and P[j]==T[i+j]:\n",
    "            j=j+1\n",
    "        if j == m :\n",
    "            return i\n",
    "    return -1\n",
    "\n",
    "text = 'HELLO WORLD'\n",
    "pattern = 'WO'\n",
    "print(pattern, 'in', text, '-->', string_matching(text, pattern))\n",
    "pattern = 'WR'\n",
    "print(pattern, 'in', text, '-->', string_matching(text, pattern))\n"
   ]
  },
  {
   "cell_type": "code",
   "execution_count": null,
   "metadata": {},
   "outputs": [],
   "source": []
  }
 ],
 "metadata": {
  "kernelspec": {
   "display_name": "Python 3",
   "language": "python",
   "name": "python3"
  },
  "language_info": {
   "codemirror_mode": {
    "name": "ipython",
    "version": 3
   },
   "file_extension": ".py",
   "mimetype": "text/x-python",
   "name": "python",
   "nbconvert_exporter": "python",
   "pygments_lexer": "ipython3",
   "version": "3.12.2"
  }
 },
 "nbformat": 4,
 "nbformat_minor": 2
}
